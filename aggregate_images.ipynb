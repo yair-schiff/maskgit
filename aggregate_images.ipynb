{
 "cells": [
  {
   "cell_type": "code",
   "execution_count": 1,
   "id": "a943e1b3-00d1-419f-8974-157bed2bf467",
   "metadata": {},
   "outputs": [],
   "source": [
    "import os\n",
    "\n",
    "import numpy as np\n",
    "from matplotlib import pyplot as plt\n",
    "from tqdm.notebook import tqdm\n",
    "from PIL import Image"
   ]
  },
  {
   "cell_type": "code",
   "execution_count": 2,
   "id": "9fb6d6e1-0730-4111-82ef-8d5601b81698",
   "metadata": {},
   "outputs": [],
   "source": [
    "decoding_strategy = \"mdim\"\n",
    "num_iter = 64\n",
    "mask_scheduling_method = \"uniform\"\n",
    "sampling_temperature_annealing = \"False\"\n",
    "sampling_temperature = 0.6"
   ]
  },
  {
   "cell_type": "code",
   "execution_count": 3,
   "id": "e5a54584-96a9-440a-ac99-6f3782bbd125",
   "metadata": {},
   "outputs": [],
   "source": [
    "output_dir = f\"outputs/{decoding_strategy}/num_iter-{num_iter}_mask_sched-{mask_scheduling_method}_\" + \\\n",
    "                f\"samp-temp-anneal-{sampling_temperature_annealing}_samp-temp-{sampling_temperature}\""
   ]
  },
  {
   "cell_type": "code",
   "execution_count": 4,
   "id": "add2cf26-ba19-4b04-bbeb-8d350faf6f21",
   "metadata": {
    "scrolled": true
   },
   "outputs": [
    {
     "data": {
      "application/vnd.jupyter.widget-view+json": {
       "model_id": "f5de6ba7a6a9487abcf5494674d11592",
       "version_major": 2,
       "version_minor": 0
      },
      "text/plain": [
       "  0%|          | 0/50000 [00:00<?, ?it/s]"
      ]
     },
     "metadata": {},
     "output_type": "display_data"
    },
    {
     "name": "stdout",
     "output_type": "stream",
     "text": [
      "Num generated images: 50,000\n"
     ]
    }
   ],
   "source": [
    "labels = []\n",
    "pbar = tqdm(os.listdir(os.path.join(output_dir, \"labels\")))\n",
    "print(f\"Num generated images: {len(pbar):,d}\")\n",
    "# for f in pbar:\n",
    "#     with open(os.path.join(output_dir, \"labels\", f), \"r\") as rf:\n",
    "#         label = int(rf.readline().strip().split('[')[-1].split(']')[0])\n",
    "#         labels.append(label)"
   ]
  },
  {
   "cell_type": "code",
   "execution_count": 5,
   "id": "3132d30b-0547-4991-93c1-6940dfd9b9c7",
   "metadata": {},
   "outputs": [],
   "source": [
    "# plt.figure(figsize=(18, 4))\n",
    "# plt.hist(labels, bins=np.arange(1000), rwidth=0.2)\n",
    "# plt.show()\n",
    "# print(\"Class counts:\")\n",
    "# print(\"- Min:\", np.histogram(labels, bins=np.arange(1000))[0].min())\n",
    "# print(\"- Max:\", np.histogram(labels, bins=np.arange(1000))[0].max())\n",
    "# print(\"- Mean:\", np.histogram(labels, bins=np.arange(1000))[0].mean())\n",
    "# print(\"- Median:\", np.median(np.histogram(labels, bins=np.arange(1000))[0]))"
   ]
  },
  {
   "cell_type": "code",
   "execution_count": 6,
   "id": "fc2949c2-4c7a-4847-a9ab-7cddb2d58ad7",
   "metadata": {},
   "outputs": [
    {
     "data": {
      "application/vnd.jupyter.widget-view+json": {
       "model_id": "46f5fca0e3d1419bbd01898e680d3e64",
       "version_major": 2,
       "version_minor": 0
      },
      "text/plain": [
       "  0%|          | 0/50000 [00:00<?, ?it/s]"
      ]
     },
     "metadata": {},
     "output_type": "display_data"
    },
    {
     "name": "stdout",
     "output_type": "stream",
     "text": [
      "Saved .npz file to outputs/mdim/num_iter-64_mask_sched-uniform_samp-temp-anneal-False_samp-temp-0.6/images.npz [shape=(50000, 256, 256, 3)].\n"
     ]
    }
   ],
   "source": [
    "samples = []\n",
    "for f in tqdm(os.listdir(os.path.join(output_dir, \"images\"))):\n",
    "    sample_pil = Image.open(os.path.join(output_dir, \"images\", f))\n",
    "    sample_np = np.asarray(sample_pil).astype(np.uint8)\n",
    "    samples.append(sample_np)\n",
    "samples = np.stack(samples)\n",
    "npz_path = os.path.join(output_dir, \"images.npz\")\n",
    "np.savez(npz_path, arr_0=samples)\n",
    "print(f\"Saved .npz file to {npz_path} [shape={samples.shape}].\")"
   ]
  },
  {
   "cell_type": "code",
   "execution_count": null,
   "id": "ac568e8a-0e7d-4938-a71d-deb76e9c4fec",
   "metadata": {},
   "outputs": [],
   "source": []
  }
 ],
 "metadata": {
  "kernelspec": {
   "display_name": "Python 3 (ipykernel)",
   "language": "python",
   "name": "python3"
  },
  "language_info": {
   "codemirror_mode": {
    "name": "ipython",
    "version": 3
   },
   "file_extension": ".py",
   "mimetype": "text/x-python",
   "name": "python",
   "nbconvert_exporter": "python",
   "pygments_lexer": "ipython3",
   "version": "3.10.16"
  }
 },
 "nbformat": 4,
 "nbformat_minor": 5
}
